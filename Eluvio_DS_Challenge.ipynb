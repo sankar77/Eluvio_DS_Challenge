{
 "cells": [
  {
   "cell_type": "markdown",
   "metadata": {},
   "source": [
    "IMPORTING NECESSARY LIBRARIES"
   ]
  },
  {
   "cell_type": "code",
   "execution_count": 2,
   "metadata": {},
   "outputs": [],
   "source": [
    "import numpy as np\n",
    "import pandas as pd\n",
    "import spacy\n",
    "from tqdm import tqdm\n",
    "from gensim.models import doc2vec\n",
    "from collections import namedtuple\n",
    "from sklearn.cluster import DBSCAN\n",
    "from scipy import spatial\n",
    "import operator\n",
    "from dask.distributed import Client\n",
    "from sklearn.externals.joblib import parallel_backend\n",
    "import datetime"
   ]
  },
  {
   "cell_type": "code",
   "execution_count": 3,
   "metadata": {},
   "outputs": [],
   "source": [
    "df = pd.read_csv(r\"Eluvio_DS_Challenge.csv\")"
   ]
  },
  {
   "cell_type": "code",
   "execution_count": 4,
   "metadata": {},
   "outputs": [
    {
     "data": {
      "text/html": [
       "<div>\n",
       "<style scoped>\n",
       "    .dataframe tbody tr th:only-of-type {\n",
       "        vertical-align: middle;\n",
       "    }\n",
       "\n",
       "    .dataframe tbody tr th {\n",
       "        vertical-align: top;\n",
       "    }\n",
       "\n",
       "    .dataframe thead th {\n",
       "        text-align: right;\n",
       "    }\n",
       "</style>\n",
       "<table border=\"1\" class=\"dataframe\">\n",
       "  <thead>\n",
       "    <tr style=\"text-align: right;\">\n",
       "      <th></th>\n",
       "      <th>time_created</th>\n",
       "      <th>date_created</th>\n",
       "      <th>up_votes</th>\n",
       "      <th>down_votes</th>\n",
       "      <th>title</th>\n",
       "      <th>over_18</th>\n",
       "      <th>author</th>\n",
       "      <th>category</th>\n",
       "    </tr>\n",
       "  </thead>\n",
       "  <tbody>\n",
       "    <tr>\n",
       "      <td>0</td>\n",
       "      <td>1201232046</td>\n",
       "      <td>2008-01-25</td>\n",
       "      <td>3</td>\n",
       "      <td>0</td>\n",
       "      <td>Scores killed in Pakistan clashes</td>\n",
       "      <td>False</td>\n",
       "      <td>polar</td>\n",
       "      <td>worldnews</td>\n",
       "    </tr>\n",
       "    <tr>\n",
       "      <td>1</td>\n",
       "      <td>1201232075</td>\n",
       "      <td>2008-01-25</td>\n",
       "      <td>2</td>\n",
       "      <td>0</td>\n",
       "      <td>Japan resumes refuelling mission</td>\n",
       "      <td>False</td>\n",
       "      <td>polar</td>\n",
       "      <td>worldnews</td>\n",
       "    </tr>\n",
       "    <tr>\n",
       "      <td>2</td>\n",
       "      <td>1201232523</td>\n",
       "      <td>2008-01-25</td>\n",
       "      <td>3</td>\n",
       "      <td>0</td>\n",
       "      <td>US presses Egypt on Gaza border</td>\n",
       "      <td>False</td>\n",
       "      <td>polar</td>\n",
       "      <td>worldnews</td>\n",
       "    </tr>\n",
       "    <tr>\n",
       "      <td>3</td>\n",
       "      <td>1201233290</td>\n",
       "      <td>2008-01-25</td>\n",
       "      <td>1</td>\n",
       "      <td>0</td>\n",
       "      <td>Jump-start economy: Give health care to all</td>\n",
       "      <td>False</td>\n",
       "      <td>fadi420</td>\n",
       "      <td>worldnews</td>\n",
       "    </tr>\n",
       "    <tr>\n",
       "      <td>4</td>\n",
       "      <td>1201274720</td>\n",
       "      <td>2008-01-25</td>\n",
       "      <td>4</td>\n",
       "      <td>0</td>\n",
       "      <td>Council of Europe bashes EU&amp;UN terror blacklist</td>\n",
       "      <td>False</td>\n",
       "      <td>mhermans</td>\n",
       "      <td>worldnews</td>\n",
       "    </tr>\n",
       "  </tbody>\n",
       "</table>\n",
       "</div>"
      ],
      "text/plain": [
       "   time_created date_created  up_votes  down_votes  \\\n",
       "0    1201232046   2008-01-25         3           0   \n",
       "1    1201232075   2008-01-25         2           0   \n",
       "2    1201232523   2008-01-25         3           0   \n",
       "3    1201233290   2008-01-25         1           0   \n",
       "4    1201274720   2008-01-25         4           0   \n",
       "\n",
       "                                             title  over_18    author  \\\n",
       "0                Scores killed in Pakistan clashes    False     polar   \n",
       "1                 Japan resumes refuelling mission    False     polar   \n",
       "2                  US presses Egypt on Gaza border    False     polar   \n",
       "3     Jump-start economy: Give health care to all     False   fadi420   \n",
       "4  Council of Europe bashes EU&UN terror blacklist    False  mhermans   \n",
       "\n",
       "    category  \n",
       "0  worldnews  \n",
       "1  worldnews  \n",
       "2  worldnews  \n",
       "3  worldnews  \n",
       "4  worldnews  "
      ]
     },
     "execution_count": 4,
     "metadata": {},
     "output_type": "execute_result"
    }
   ],
   "source": [
    "df.head()"
   ]
  },
  {
   "cell_type": "code",
   "execution_count": 5,
   "metadata": {},
   "outputs": [
    {
     "name": "stdout",
     "output_type": "stream",
     "text": [
      "['Scores killed in Pakistan clashes', 'Japan resumes refuelling mission', 'US presses Egypt on Gaza border', 'Jump-start economy: Give health care to all ', 'Council of Europe bashes EU&UN terror blacklist', 'Hay presto! Farmer unveils the  illegal  mock-Tudor castle he tried to hide behind 40ft hay bales', 'Strikes, Protests and Gridlock at the Poland-Ukraine Border', 'The U.N. Mismanagement Program', 'Nicolas Sarkozy threatens to sue Ryanair ', 'US plans for missile shields in Polish town met with resistance [video]']\n"
     ]
    }
   ],
   "source": [
    "title_list = list(df['title'])\n",
    "print(title_list[:10])"
   ]
  },
  {
   "cell_type": "markdown",
   "metadata": {},
   "source": [
    "CREATING VECTORS FOR THE TITLE"
   ]
  },
  {
   "cell_type": "code",
   "execution_count": 6,
   "metadata": {},
   "outputs": [
    {
     "name": "stderr",
     "output_type": "stream",
     "text": [
      "C:\\Users\\DELL\\Anaconda3\\lib\\site-packages\\gensim\\models\\doc2vec.py:574: UserWarning: The parameter `size` is deprecated, will be removed in 4.0.0, use `vector_size` instead.\n",
      "  warnings.warn(\"The parameter `size` is deprecated, will be removed in 4.0.0, use `vector_size` instead.\")\n"
     ]
    }
   ],
   "source": [
    "docs = []\n",
    "analyzedDocument = namedtuple('AnalyzedDocument', 'words tags')\n",
    "for i, title in enumerate(title_list[:20000]):\n",
    "    words = title.lower().split()\n",
    "    tags = [i]\n",
    "    docs.append(analyzedDocument(words, tags))\n",
    "\n",
    "model = doc2vec.Doc2Vec(docs, size = 100, window = 300, min_count = 1, workers = 4)"
   ]
  },
  {
   "cell_type": "code",
   "execution_count": 8,
   "metadata": {},
   "outputs": [],
   "source": [
    "vec_list = []\n",
    "#print(len(model.docvecs))\n",
    "for i in range(len(model.docvecs)):\n",
    "    vec_list.append(list(model.docvecs[i]))\n",
    "vec_array = np.array(vec_list)\n",
    "#list(model.docvecs[999])"
   ]
  },
  {
   "cell_type": "code",
   "execution_count": null,
   "metadata": {},
   "outputs": [],
   "source": [
    "\n",
    "\n",
    "#db_s = DBSCAN(eps = 0.5,min_samples = 2,metric = 'cosine')\n",
    "#with parallel_backend('dask'):\n",
    "#    db_s.fit(vec_array)\n"
   ]
  },
  {
   "cell_type": "markdown",
   "metadata": {},
   "source": [
    "CLUSTERING BASED ON DBSCAN(Density Based Spatial Clustering) and DASK(Parallelization of the task)"
   ]
  },
  {
   "cell_type": "code",
   "execution_count": 9,
   "metadata": {},
   "outputs": [
    {
     "name": "stderr",
     "output_type": "stream",
     "text": [
      "100%|████████████████████████████████████████████████████████████████████████████████████| 5/5 [01:26<00:00, 17.31s/it]\n"
     ]
    },
    {
     "name": "stdout",
     "output_type": "stream",
     "text": [
      "0:01:31.110785\n"
     ]
    }
   ],
   "source": [
    "num_classes = {}\n",
    "client = Client()\n",
    "time_now = datetime.datetime.now()\n",
    "for i in tqdm(np.arange(0.5,1,0.1)):\n",
    "    db_scan = DBSCAN(eps = i,min_samples = 2,metric = 'cosine')\n",
    "    with parallel_backend('dask'):\n",
    "        db_scan.fit(vec_array)\n",
    "    num_classes.update({i:len(pd.Series(db_scan.labels_).value_counts())})\n",
    "db_scan = DBSCAN(eps = 0.08,min_samples = 2,metric = 'cosine').fit(vec_array)\n",
    "print(datetime.datetime.now() - time_now)"
   ]
  },
  {
   "cell_type": "code",
   "execution_count": 11,
   "metadata": {},
   "outputs": [
    {
     "name": "stdout",
     "output_type": "stream",
     "text": [
      "10442\n",
      "9410\n",
      "148\n"
     ]
    }
   ],
   "source": [
    "#num_classes\n",
    "res = pd.DataFrame({'label':db_scan.labels_,'title':title_list[:20000]})\n",
    "exam_res = {}\n",
    "eve_df = {}\n",
    "labels = list(res['label'])\n",
    "#print(labels)\n",
    "unique_labels = np.unique(labels)\n",
    "for l in unique_labels:\n",
    "    exam_res[l] = res[res.label==l].title.tolist()\n",
    "    print(len(exam_res[l]))\n",
    "    eve_df[l] = df[df['title'].isin(exam_res[l])][['date_created','title']]\n",
    "    eve_df[l]['date_created'] = pd.to_datetime(eve_df[l]['date_created'])\n",
    "    eve_df[l] = eve_df[l].sort_values(by= 'date_created')"
   ]
  },
  {
   "cell_type": "code",
   "execution_count": 12,
   "metadata": {},
   "outputs": [
    {
     "data": {
      "text/html": [
       "<div>\n",
       "<style scoped>\n",
       "    .dataframe tbody tr th:only-of-type {\n",
       "        vertical-align: middle;\n",
       "    }\n",
       "\n",
       "    .dataframe tbody tr th {\n",
       "        vertical-align: top;\n",
       "    }\n",
       "\n",
       "    .dataframe thead th {\n",
       "        text-align: right;\n",
       "    }\n",
       "</style>\n",
       "<table border=\"1\" class=\"dataframe\">\n",
       "  <thead>\n",
       "    <tr style=\"text-align: right;\">\n",
       "      <th></th>\n",
       "      <th>date_created</th>\n",
       "      <th>title</th>\n",
       "    </tr>\n",
       "  </thead>\n",
       "  <tbody>\n",
       "    <tr>\n",
       "      <td>1</td>\n",
       "      <td>2008-01-25</td>\n",
       "      <td>Japan resumes refuelling mission</td>\n",
       "    </tr>\n",
       "    <tr>\n",
       "      <td>3</td>\n",
       "      <td>2008-01-25</td>\n",
       "      <td>Jump-start economy: Give health care to all</td>\n",
       "    </tr>\n",
       "    <tr>\n",
       "      <td>4</td>\n",
       "      <td>2008-01-25</td>\n",
       "      <td>Council of Europe bashes EU&amp;UN terror blacklist</td>\n",
       "    </tr>\n",
       "    <tr>\n",
       "      <td>5</td>\n",
       "      <td>2008-01-25</td>\n",
       "      <td>Hay presto! Farmer unveils the  illegal  mock-...</td>\n",
       "    </tr>\n",
       "    <tr>\n",
       "      <td>6</td>\n",
       "      <td>2008-01-25</td>\n",
       "      <td>Strikes, Protests and Gridlock at the Poland-U...</td>\n",
       "    </tr>\n",
       "    <tr>\n",
       "      <td>...</td>\n",
       "      <td>...</td>\n",
       "      <td>...</td>\n",
       "    </tr>\n",
       "    <tr>\n",
       "      <td>19999</td>\n",
       "      <td>2008-11-26</td>\n",
       "      <td>Congestion Pricing</td>\n",
       "    </tr>\n",
       "    <tr>\n",
       "      <td>19978</td>\n",
       "      <td>2008-11-26</td>\n",
       "      <td>Protesters force Bangkok airport to close - an...</td>\n",
       "    </tr>\n",
       "    <tr>\n",
       "      <td>31722</td>\n",
       "      <td>2009-04-07</td>\n",
       "      <td>The dark side of Dubai</td>\n",
       "    </tr>\n",
       "    <tr>\n",
       "      <td>33119</td>\n",
       "      <td>2009-04-24</td>\n",
       "      <td>The dark side of Dubai</td>\n",
       "    </tr>\n",
       "    <tr>\n",
       "      <td>168350</td>\n",
       "      <td>2013-03-25</td>\n",
       "      <td>The dark side of Dubai</td>\n",
       "    </tr>\n",
       "  </tbody>\n",
       "</table>\n",
       "<p>9432 rows × 2 columns</p>\n",
       "</div>"
      ],
      "text/plain": [
       "       date_created                                              title\n",
       "1        2008-01-25                   Japan resumes refuelling mission\n",
       "3        2008-01-25       Jump-start economy: Give health care to all \n",
       "4        2008-01-25    Council of Europe bashes EU&UN terror blacklist\n",
       "5        2008-01-25  Hay presto! Farmer unveils the  illegal  mock-...\n",
       "6        2008-01-25  Strikes, Protests and Gridlock at the Poland-U...\n",
       "...             ...                                                ...\n",
       "19999    2008-11-26                                 Congestion Pricing\n",
       "19978    2008-11-26  Protesters force Bangkok airport to close - an...\n",
       "31722    2009-04-07                             The dark side of Dubai\n",
       "33119    2009-04-24                             The dark side of Dubai\n",
       "168350   2013-03-25                             The dark side of Dubai\n",
       "\n",
       "[9432 rows x 2 columns]"
      ]
     },
     "execution_count": 12,
     "metadata": {},
     "output_type": "execute_result"
    }
   ],
   "source": [
    "eve_df[0]"
   ]
  },
  {
   "cell_type": "markdown",
   "metadata": {},
   "source": [
    "RECREATING VECTORS FOR THE TITLES PRESENT IN A CLUSTER"
   ]
  },
  {
   "cell_type": "code",
   "execution_count": 13,
   "metadata": {},
   "outputs": [
    {
     "name": "stderr",
     "output_type": "stream",
     "text": [
      "C:\\Users\\DELL\\Anaconda3\\lib\\site-packages\\gensim\\models\\doc2vec.py:574: UserWarning: The parameter `size` is deprecated, will be removed in 4.0.0, use `vector_size` instead.\n",
      "  warnings.warn(\"The parameter `size` is deprecated, will be removed in 4.0.0, use `vector_size` instead.\")\n"
     ]
    }
   ],
   "source": [
    "title_list_eve_df = {}\n",
    "model_eve_df = {}\n",
    "#docs_eve_df = {}\n",
    "for l in unique_labels:\n",
    "    title_list_eve_df[l] = list(eve_df[l]['title'])\n",
    "    #print(eve_df[l])\n",
    "    docs_eve_df = []\n",
    "    analyzedDocument = namedtuple('AnalyzedDocument', 'words tags')\n",
    "    for i, title in enumerate(title_list_eve_df[l]):\n",
    "        words = title.lower().split()\n",
    "        tags = [i]\n",
    "        #print(words)\n",
    "        docs_eve_df.append(analyzedDocument(words, tags))\n",
    "\n",
    "    \n",
    "    #print(docs_eve_df[l])\n",
    "    model_eve_df[l] = doc2vec.Doc2Vec(docs_eve_df, size = 100, window = 300, min_count = 1, workers = 4)"
   ]
  },
  {
   "cell_type": "code",
   "execution_count": 15,
   "metadata": {},
   "outputs": [],
   "source": [
    "v = {}\n",
    "for l in unique_labels:\n",
    "    v[l] = []\n",
    "    for i in range(len(model_eve_df[l].docvecs)):\n",
    "        v[l].append(model_eve_df[l].docvecs[i])\n",
    "    "
   ]
  },
  {
   "cell_type": "markdown",
   "metadata": {},
   "source": [
    "CREATING A REPRESENTATION FOR EACH CLUSTER"
   ]
  },
  {
   "cell_type": "code",
   "execution_count": 16,
   "metadata": {},
   "outputs": [],
   "source": [
    "res_v = {}\n",
    "for l in unique_labels:\n",
    "    res_v[l] = [sum(x) for x in zip(*v[l])]"
   ]
  },
  {
   "cell_type": "markdown",
   "metadata": {},
   "source": [
    "LOADING WORD EMBEDDINGS USING GLOVE WORD VECTORS"
   ]
  },
  {
   "cell_type": "code",
   "execution_count": 17,
   "metadata": {},
   "outputs": [],
   "source": [
    "emb_ind = {}\n",
    "f = open('glove.6B.100d.txt',encoding = 'utf-8')\n",
    "for line in f:\n",
    "    val = line.split()\n",
    "    word = val[0]\n",
    "    vec = np.asarray(val[1:],dtype = 'float32')\n",
    "    emb_ind[word] = vec"
   ]
  },
  {
   "cell_type": "code",
   "execution_count": 18,
   "metadata": {},
   "outputs": [
    {
     "name": "stdout",
     "output_type": "stream",
     "text": [
      "[-0.46305  -0.24295   0.1877    0.41373  -0.084503  0.57225  -0.9377\n",
      " -0.30792   0.17755   0.073116 -0.13558   0.55189   0.41187   0.4645\n",
      " -0.42855  -0.1143   -0.011692 -1.4277    0.42467   0.57495   0.90547\n",
      " -0.36729   0.39568  -0.045399 -0.53152   0.12222   0.9691   -0.65784\n",
      " -0.20899  -0.17851  -0.84276   0.96525  -0.13295  -0.19877   0.17407\n",
      "  0.2779    0.026158  0.28856  -0.11211  -0.76247  -0.75057  -0.33531\n",
      "  0.80206  -0.42961   1.1994    0.57101  -0.8373    0.69643  -0.40706\n",
      " -0.91319  -0.70247  -0.39663   0.46995   0.48096  -0.12052  -0.35177\n",
      " -1.0832    0.67436   2.2427    0.65199  -0.63183   0.033356 -0.21366\n",
      "  0.22413  -0.23586   0.98331  -0.60243  -0.066084  0.29879  -0.055371\n",
      "  0.46147   0.21237  -0.26871   0.14616  -0.70399   1.0516   -0.5702\n",
      "  1.0974   -0.57968   0.26906   0.85709  -0.86308   0.34488  -0.64482\n",
      " -0.23066  -0.33316  -0.47587   0.7897    0.23109  -0.061796  0.89546\n",
      " -0.16581  -0.43084  -0.11343  -0.41524   0.37104  -0.3025   -0.4017\n",
      "  0.17938   0.04789 ]\n"
     ]
    }
   ],
   "source": [
    "input_text = \"thai\"\n",
    "norm_input_text = input_text.lower()\n",
    "print(emb_ind[norm_input_text])"
   ]
  },
  {
   "cell_type": "markdown",
   "metadata": {},
   "source": [
    "COSINE SIMILARITY BETWEEN WORD AND CLUSTER REPRESENTATION"
   ]
  },
  {
   "cell_type": "code",
   "execution_count": 19,
   "metadata": {},
   "outputs": [],
   "source": [
    "cos_sim = {}\n",
    "for l in unique_labels:\n",
    "    cos_sim[l] = 1-spatial.distance.cosine(emb_ind[norm_input_text],res_v[l])"
   ]
  },
  {
   "cell_type": "code",
   "execution_count": 20,
   "metadata": {},
   "outputs": [
    {
     "name": "stdout",
     "output_type": "stream",
     "text": [
      "-1\n"
     ]
    }
   ],
   "source": [
    "#cos_sim[1]\n",
    "cluster_ind = max(cos_sim.items(),key = operator.itemgetter(1))[0]\n",
    "print(cluster_ind)"
   ]
  },
  {
   "cell_type": "markdown",
   "metadata": {},
   "source": [
    "COSINE SIMILARITY BETWEEN WORD AND TITLES IN THE CLUSTER CHOSEN IN THE PREVIOUS STEP"
   ]
  },
  {
   "cell_type": "code",
   "execution_count": 21,
   "metadata": {},
   "outputs": [],
   "source": [
    "cos_sim_in_cluster = {}\n",
    "for i in range(len(model_eve_df[cluster_ind].docvecs)):\n",
    "    cos_sim_in_cluster[i] = 1-spatial.distance.cosine(model_eve_df[cluster_ind].docvecs[i],emb_ind[norm_input_text])\n"
   ]
  },
  {
   "cell_type": "code",
   "execution_count": 22,
   "metadata": {},
   "outputs": [],
   "source": [
    "lt = list(cos_sim_in_cluster.values())\n",
    "#sorted(lt,reverse = True)\n",
    "#lt.sort(reverse = True)\n",
    "#print(lt)\n",
    "#print(lt[:15])\n",
    "title_ind = sorted(range(len(lt)),key = lambda i:lt[i])[-15:]"
   ]
  },
  {
   "cell_type": "code",
   "execution_count": 23,
   "metadata": {},
   "outputs": [
    {
     "data": {
      "text/plain": [
       "[10296,\n",
       " 1735,\n",
       " 5750,\n",
       " 3463,\n",
       " 155,\n",
       " 9237,\n",
       " 1960,\n",
       " 1483,\n",
       " 8951,\n",
       " 9042,\n",
       " 6048,\n",
       " 2246,\n",
       " 5963,\n",
       " 2554,\n",
       " 925]"
      ]
     },
     "execution_count": 23,
     "metadata": {},
     "output_type": "execute_result"
    }
   ],
   "source": [
    "title_ind"
   ]
  },
  {
   "cell_type": "markdown",
   "metadata": {},
   "source": [
    "IDENTIFYING TITLES"
   ]
  },
  {
   "cell_type": "code",
   "execution_count": 25,
   "metadata": {},
   "outputs": [
    {
     "data": {
      "text/html": [
       "<div>\n",
       "<style scoped>\n",
       "    .dataframe tbody tr th:only-of-type {\n",
       "        vertical-align: middle;\n",
       "    }\n",
       "\n",
       "    .dataframe tbody tr th {\n",
       "        vertical-align: top;\n",
       "    }\n",
       "\n",
       "    .dataframe thead th {\n",
       "        text-align: right;\n",
       "    }\n",
       "</style>\n",
       "<table border=\"1\" class=\"dataframe\">\n",
       "  <thead>\n",
       "    <tr style=\"text-align: right;\">\n",
       "      <th></th>\n",
       "      <th>date_created</th>\n",
       "      <th>title</th>\n",
       "    </tr>\n",
       "  </thead>\n",
       "  <tbody>\n",
       "    <tr>\n",
       "      <td>19595</td>\n",
       "      <td>2008-11-21</td>\n",
       "      <td>You found the Puppy Tosser. Let s see if you c...</td>\n",
       "    </tr>\n",
       "    <tr>\n",
       "      <td>3014</td>\n",
       "      <td>2008-04-06</td>\n",
       "      <td>Two documentaries about the future of our food...</td>\n",
       "    </tr>\n",
       "    <tr>\n",
       "      <td>10620</td>\n",
       "      <td>2008-07-01</td>\n",
       "      <td>Polish president throws the EU into new crisis...</td>\n",
       "    </tr>\n",
       "    <tr>\n",
       "      <td>5998</td>\n",
       "      <td>2008-05-09</td>\n",
       "      <td>Is Global Warming to Blame for the Cyclone</td>\n",
       "    </tr>\n",
       "    <tr>\n",
       "      <td>287</td>\n",
       "      <td>2008-02-19</td>\n",
       "      <td>Myanmar says constitution draft is ready - New...</td>\n",
       "    </tr>\n",
       "    <tr>\n",
       "      <td>17768</td>\n",
       "      <td>2008-10-21</td>\n",
       "      <td>ID cards on UK driving licences -  law can t s...</td>\n",
       "    </tr>\n",
       "    <tr>\n",
       "      <td>3398</td>\n",
       "      <td>2008-04-10</td>\n",
       "      <td>Police State Torch Run</td>\n",
       "    </tr>\n",
       "    <tr>\n",
       "      <td>2487</td>\n",
       "      <td>2008-03-31</td>\n",
       "      <td>An Iraqi s Story:  My Brother Is Dead...and I ...</td>\n",
       "    </tr>\n",
       "    <tr>\n",
       "      <td>17205</td>\n",
       "      <td>2008-10-10</td>\n",
       "      <td>Two of this week s Nobel Prize winners talk ab...</td>\n",
       "    </tr>\n",
       "    <tr>\n",
       "      <td>17379</td>\n",
       "      <td>2008-10-14</td>\n",
       "      <td>My eight-year-old daughter - who has kidney pr...</td>\n",
       "    </tr>\n",
       "    <tr>\n",
       "      <td>11205</td>\n",
       "      <td>2008-07-09</td>\n",
       "      <td>Are You a US Dollar Perma-bear?</td>\n",
       "    </tr>\n",
       "    <tr>\n",
       "      <td>3738</td>\n",
       "      <td>2008-04-14</td>\n",
       "      <td>Hizbullah Believes Israel Preparing For New War</td>\n",
       "    </tr>\n",
       "    <tr>\n",
       "      <td>11092</td>\n",
       "      <td>2008-07-07</td>\n",
       "      <td>For First Time Iraqi Government Wants to Set T...</td>\n",
       "    </tr>\n",
       "    <tr>\n",
       "      <td>4340</td>\n",
       "      <td>2008-04-21</td>\n",
       "      <td>Spain Next to Deal With Somali Pirates - New Y...</td>\n",
       "    </tr>\n",
       "    <tr>\n",
       "      <td>1696</td>\n",
       "      <td>2008-03-20</td>\n",
       "      <td>Cannot Be Overstated: Al Qaida was not in Iraq...</td>\n",
       "    </tr>\n",
       "  </tbody>\n",
       "</table>\n",
       "</div>"
      ],
      "text/plain": [
       "      date_created                                              title\n",
       "19595   2008-11-21  You found the Puppy Tosser. Let s see if you c...\n",
       "3014    2008-04-06  Two documentaries about the future of our food...\n",
       "10620   2008-07-01  Polish president throws the EU into new crisis...\n",
       "5998    2008-05-09         Is Global Warming to Blame for the Cyclone\n",
       "287     2008-02-19  Myanmar says constitution draft is ready - New...\n",
       "17768   2008-10-21  ID cards on UK driving licences -  law can t s...\n",
       "3398    2008-04-10                             Police State Torch Run\n",
       "2487    2008-03-31  An Iraqi s Story:  My Brother Is Dead...and I ...\n",
       "17205   2008-10-10  Two of this week s Nobel Prize winners talk ab...\n",
       "17379   2008-10-14  My eight-year-old daughter - who has kidney pr...\n",
       "11205   2008-07-09                    Are You a US Dollar Perma-bear?\n",
       "3738    2008-04-14    Hizbullah Believes Israel Preparing For New War\n",
       "11092   2008-07-07  For First Time Iraqi Government Wants to Set T...\n",
       "4340    2008-04-21  Spain Next to Deal With Somali Pirates - New Y...\n",
       "1696    2008-03-20  Cannot Be Overstated: Al Qaida was not in Iraq..."
      ]
     },
     "execution_count": 25,
     "metadata": {},
     "output_type": "execute_result"
    }
   ],
   "source": [
    "eve_df[cluster_ind].iloc[title_ind]"
   ]
  },
  {
   "cell_type": "code",
   "execution_count": null,
   "metadata": {},
   "outputs": [],
   "source": []
  }
 ],
 "metadata": {
  "kernelspec": {
   "display_name": "Python 3",
   "language": "python",
   "name": "python3"
  },
  "language_info": {
   "codemirror_mode": {
    "name": "ipython",
    "version": 3
   },
   "file_extension": ".py",
   "mimetype": "text/x-python",
   "name": "python",
   "nbconvert_exporter": "python",
   "pygments_lexer": "ipython3",
   "version": "3.7.4"
  }
 },
 "nbformat": 4,
 "nbformat_minor": 2
}
